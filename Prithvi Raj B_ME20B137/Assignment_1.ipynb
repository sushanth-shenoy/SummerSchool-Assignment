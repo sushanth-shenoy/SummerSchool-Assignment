{
 "cells": [
  {
   "cell_type": "markdown",
   "metadata": {
    "colab_type": "text",
    "id": "view-in-github"
   },
   "source": [
    "<a href=\"https://colab.research.google.com/github/prithvi-raj-b/SummerSchool-Assignment/blob/main/Prithvi%20Raj%20B_ME20B137/Assignment_1.ipynb\" target=\"_parent\"><img src=\"https://colab.research.google.com/assets/colab-badge.svg\" alt=\"Open In Colab\"/></a>"
   ]
  },
  {
   "cell_type": "markdown",
   "metadata": {
    "id": "jaLDCCgiW-Pb"
   },
   "source": [
    "# 1"
   ]
  },
  {
   "cell_type": "code",
   "execution_count": 32,
   "metadata": {
    "id": "3hysCFAqYDQm"
   },
   "outputs": [],
   "source": [
    "import numpy as np"
   ]
  },
  {
   "cell_type": "code",
   "execution_count": 33,
   "metadata": {
    "id": "oPFyqYGXYjti"
   },
   "outputs": [],
   "source": [
    "n=100"
   ]
  },
  {
   "cell_type": "code",
   "execution_count": 34,
   "metadata": {
    "id": "CaLBw8ADW93g"
   },
   "outputs": [],
   "source": [
    "y = np.random.randint(2,size=n)\n",
    "ycap = np.random.rand(n)"
   ]
  },
  {
   "cell_type": "code",
   "execution_count": 35,
   "metadata": {
    "colab": {
     "base_uri": "https://localhost:8080/"
    },
    "id": "1RjbjJkfZPT7",
    "outputId": "63cd7795-be97-4a31-eb09-bb195f76a4fb"
   },
   "outputs": [
    {
     "name": "stdout",
     "output_type": "stream",
     "text": [
      "1.6405425660284558\n"
     ]
    }
   ],
   "source": [
    "O = sum( (i*np.log2(j)+(1-i)*np.log2(1-j)) for (i,j) in zip(y,ycap) ) * (-1/n)\n",
    "print(O)"
   ]
  },
  {
   "cell_type": "markdown",
   "metadata": {
    "id": "fRE83ic4R9SC"
   },
   "source": [
    "# 2"
   ]
  },
  {
   "cell_type": "code",
   "execution_count": 36,
   "metadata": {
    "id": "KgzCYBvMQo4N"
   },
   "outputs": [],
   "source": [
    "class SumFinder:\n",
    "  \n",
    "  def __init__(self, A, target):\n",
    "    self.result = {}\n",
    "    c = 1\n",
    "    for i in range(len(A)):\n",
    "      for j in range(len(A)):\n",
    "        if A[i] + A[j] == target:\n",
    "          self.result[c] = [i, j]\n",
    "          c += 1\n",
    "    print(self.result)\n"
   ]
  },
  {
   "cell_type": "code",
   "execution_count": 38,
   "metadata": {
    "colab": {
     "base_uri": "https://localhost:8080/"
    },
    "id": "-5lOQvj5T8oD",
    "outputId": "6e37b7ac-e30d-4e62-97d0-2ea63fc7aa7e"
   },
   "outputs": [
    {
     "name": "stdout",
     "output_type": "stream",
     "text": [
      "{1: [0, 3], 2: [2, 3], 3: [3, 0], 4: [3, 2]}\n"
     ]
    }
   ],
   "source": [
    "X = SumFinder([10,20,10,40,50,60,70],50)"
   ]
  }
 ],
 "metadata": {
  "colab": {
   "authorship_tag": "ABX9TyMWif6zW4MzTjVVbAHAcG5O",
   "collapsed_sections": [],
   "include_colab_link": true,
   "name": "DLMC_1.ipynb",
   "provenance": []
  },
  "kernelspec": {
   "display_name": "Python 3",
   "language": "python",
   "name": "python3"
  },
  "language_info": {
   "codemirror_mode": {
    "name": "ipython",
    "version": 3
   },
   "file_extension": ".py",
   "mimetype": "text/x-python",
   "name": "python",
   "nbconvert_exporter": "python",
   "pygments_lexer": "ipython3",
   "version": "3.8.3"
  }
 },
 "nbformat": 4,
 "nbformat_minor": 1
}
