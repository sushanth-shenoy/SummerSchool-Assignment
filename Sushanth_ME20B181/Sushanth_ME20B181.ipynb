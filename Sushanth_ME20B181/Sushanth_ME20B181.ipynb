{
 "cells": [
  {
   "cell_type": "code",
   "execution_count": 39,
   "metadata": {},
   "outputs": [
    {
     "name": "stdout",
     "output_type": "stream",
     "text": [
      "1.3960528606454767\n"
     ]
    }
   ],
   "source": [
    "import numpy as np\n",
    "\n",
    "y = np.random.rand(25,4)\n",
    "x = np.random.randint(2, size = (25, 4))\n",
    "\n",
    "\n",
    "O = -(1/100)*np.sum((x*np.log2(y) + (1-x)*np.log2(1-y)))\n",
    "print(O)"
   ]
  },
  {
   "cell_type": "code",
   "execution_count": 40,
   "metadata": {},
   "outputs": [
    {
     "name": "stdout",
     "output_type": "stream",
     "text": [
      "{1: [0, 3], 2: [2, 3], 3: [3, 0], 4: [3, 2]}\n"
     ]
    },
    {
     "data": {
      "text/plain": [
       "<__main__.sum_target at 0x2644ea0a1f0>"
      ]
     },
     "execution_count": 40,
     "metadata": {},
     "output_type": "execute_result"
    }
   ],
   "source": [
    "class sum_target:\n",
    "    def __init__(self, lst, target):\n",
    "        dict = {}\n",
    "        count = 1\n",
    "        for i in range(len(lst)):\n",
    "            for j in range(len(lst)):\n",
    "                if lst[i] + lst[j] == target:\n",
    "                    dict[count] = [i, j]\n",
    "                    count += 1\n",
    "        print(dict)\n",
    "        return None\n",
    "\n",
    "\n",
    "lst = [10,20,10,40,50,60,70]\n",
    "target = 50\n",
    "x = sum\n",
    "sum_target(lst, target)\n",
    "                    \n",
    "                    "
   ]
  },
  {
   "cell_type": "code",
   "execution_count": null,
   "metadata": {},
   "outputs": [],
   "source": []
  }
 ],
 "metadata": {
  "kernelspec": {
   "display_name": "Python 3",
   "language": "python",
   "name": "python3"
  },
  "language_info": {
   "codemirror_mode": {
    "name": "ipython",
    "version": 3
   },
   "file_extension": ".py",
   "mimetype": "text/x-python",
   "name": "python",
   "nbconvert_exporter": "python",
   "pygments_lexer": "ipython3",
   "version": "3.8.3"
  }
 },
 "nbformat": 4,
 "nbformat_minor": 4
}
